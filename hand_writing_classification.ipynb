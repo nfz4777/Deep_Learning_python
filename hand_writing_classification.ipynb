{
  "nbformat": 4,
  "nbformat_minor": 0,
  "metadata": {
    "colab": {
      "name": "hand_writing_classification.ipynb",
      "provenance": []
    },
    "kernelspec": {
      "name": "python3",
      "display_name": "Python 3"
    },
    "language_info": {
      "name": "python"
    }
  },
  "cells": [
    {
      "cell_type": "code",
      "execution_count": null,
      "metadata": {
        "id": "fbGEzhKwu6ZJ"
      },
      "outputs": [],
      "source": [
        "! pip install tensorflow"
      ]
    },
    {
      "cell_type": "code",
      "source": [
        "! pip install keras numpy matplotlib mnist"
      ],
      "metadata": {
        "id": "HHjfrm0Fvadd"
      },
      "execution_count": null,
      "outputs": []
    },
    {
      "cell_type": "code",
      "source": [
        "import numpy as np\n",
        "import matplotlib.pyplot as plt\n",
        "import tensorflow as tf\n",
        "from tensorflow import keras\n",
        "import keras\n",
        "from keras.layers import Dense\n",
        "from tensorflow.keras.utils import to_categorical\n",
        "import seaborn "
      ],
      "metadata": {
        "id": "uTGCpMLavn6f"
      },
      "execution_count": 72,
      "outputs": []
    },
    {
      "cell_type": "code",
      "source": [
        "(xtrain,ytrain),(xtest,ytest)=keras.datasets.mnist.load_data()"
      ],
      "metadata": {
        "id": "3UWI1tg3xWo5"
      },
      "execution_count": 73,
      "outputs": []
    },
    {
      "cell_type": "code",
      "source": [
        "xtrain.shape"
      ],
      "metadata": {
        "colab": {
          "base_uri": "https://localhost:8080/"
        },
        "id": "J7WeFjS6yGGD",
        "outputId": "3449e3c7-4150-4f34-b4c9-542683823e61"
      },
      "execution_count": 74,
      "outputs": [
        {
          "output_type": "execute_result",
          "data": {
            "text/plain": [
              "(60000, 28, 28)"
            ]
          },
          "metadata": {},
          "execution_count": 74
        }
      ]
    },
    {
      "cell_type": "code",
      "source": [
        "plt.matshow(xtest[1])"
      ],
      "metadata": {
        "colab": {
          "base_uri": "https://localhost:8080/",
          "height": 292
        },
        "id": "McvhE1Hez0Xl",
        "outputId": "8ee06194-035c-4ce7-ff23-02959185fcec"
      },
      "execution_count": 75,
      "outputs": [
        {
          "output_type": "execute_result",
          "data": {
            "text/plain": [
              "<matplotlib.image.AxesImage at 0x7f7afa94bb10>"
            ]
          },
          "metadata": {},
          "execution_count": 75
        },
        {
          "output_type": "display_data",
          "data": {
            "image/png": "[encoded data removed]",
            "text/plain": [
              "<Figure size 288x288 with 1 Axes>"
            ]
          },
          "metadata": {
            "needs_background": "light"
          }
        }
      ]
    },
    {
      "cell_type": "code",
      "source": [
        "#Normalization\n",
        "xtrain = xtrain/255\n",
        "xtest = xtest/255"
      ],
      "metadata": {
        "id": "2mNaQKh50hIC"
      },
      "execution_count": 76,
      "outputs": []
    },
    {
      "cell_type": "code",
      "source": [
        "xtest[1]"
      ],
      "metadata": {
        "id": "dtlpGpJM0oCq"
      },
      "execution_count": null,
      "outputs": []
    },
    {
      "cell_type": "code",
      "source": [
        "xtrain = xtrain.reshape(-1,784)\n",
        "xtest=xtest.reshape(-1,784)"
      ],
      "metadata": {
        "id": "TOW3PpNj0qyz"
      },
      "execution_count": 78,
      "outputs": []
    },
    {
      "cell_type": "code",
      "source": [
        "xtest[1].shape"
      ],
      "metadata": {
        "colab": {
          "base_uri": "https://localhost:8080/"
        },
        "id": "KRGQXvwX1TqD",
        "outputId": "099aa1ea-ab54-4270-9fc5-bbf739efbf86"
      },
      "execution_count": 79,
      "outputs": [
        {
          "output_type": "execute_result",
          "data": {
            "text/plain": [
              "(784,)"
            ]
          },
          "metadata": {},
          "execution_count": 79
        }
      ]
    },
    {
      "cell_type": "code",
      "source": [
        "#Bulding Sequential Model\n",
        "model = keras.Sequential()\n",
        "model.add(Dense(64, activation='relu',input_dim=784))  #Input layer\n",
        "model.add(Dense(64,activation='relu'))  #Hidden layer\n",
        "model.add(Dense(10,activation='softmax'))  #Output layer"
      ],
      "metadata": {
        "id": "53lJissx1dWb"
      },
      "execution_count": 80,
      "outputs": []
    },
    {
      "cell_type": "code",
      "source": [
        "model.compile(\n",
        "    optimizer = 'adam',\n",
        "    loss = 'categorical_crossentropy',\n",
        "    metrics=['accuracy']\n",
        ")"
      ],
      "metadata": {
        "id": "maMtGBSv2fXt"
      },
      "execution_count": 81,
      "outputs": []
    },
    {
      "cell_type": "code",
      "source": [
        "model.fit(xtrain,\n",
        "          to_categorical(ytrain),\n",
        "          epochs=10,\n",
        "          batch_size=32,\n",
        "          )"
      ],
      "metadata": {
        "colab": {
          "base_uri": "https://localhost:8080/"
        },
        "id": "e7aa1gkT3BB6",
        "outputId": "f138e56b-95db-48aa-ec7b-19967bd76bd8"
      },
      "execution_count": 82,
      "outputs": [
        {
          "output_type": "stream",
          "name": "stdout",
          "text": [
            "Epoch 1/10\n",
            "1875/1875 [==============================] - 5s 2ms/step - loss: 0.2718 - accuracy: 0.9215\n",
            "Epoch 2/10\n",
            "1875/1875 [==============================] - 4s 2ms/step - loss: 0.1198 - accuracy: 0.9637\n",
            "Epoch 3/10\n",
            "1875/1875 [==============================] - 4s 2ms/step - loss: 0.0887 - accuracy: 0.9726\n",
            "Epoch 4/10\n",
            "1875/1875 [==============================] - 4s 2ms/step - loss: 0.0692 - accuracy: 0.9780\n",
            "Epoch 5/10\n",
            "1875/1875 [==============================] - 4s 2ms/step - loss: 0.0585 - accuracy: 0.9812\n",
            "Epoch 6/10\n",
            "1875/1875 [==============================] - 6s 3ms/step - loss: 0.0487 - accuracy: 0.9845\n",
            "Epoch 7/10\n",
            "1875/1875 [==============================] - 5s 2ms/step - loss: 0.0416 - accuracy: 0.9867\n",
            "Epoch 8/10\n",
            "1875/1875 [==============================] - 5s 3ms/step - loss: 0.0351 - accuracy: 0.9885\n",
            "Epoch 9/10\n",
            "1875/1875 [==============================] - 4s 2ms/step - loss: 0.0306 - accuracy: 0.9899\n",
            "Epoch 10/10\n",
            "1875/1875 [==============================] - 4s 2ms/step - loss: 0.0290 - accuracy: 0.9901\n"
          ]
        },
        {
          "output_type": "execute_result",
          "data": {
            "text/plain": [
              "<keras.callbacks.History at 0x7f7afa8bc4d0>"
            ]
          },
          "metadata": {},
          "execution_count": 82
        }
      ]
    },
    {
      "cell_type": "code",
      "source": [
        "model.evaluate(xtest,to_categorical(ytest))"
      ],
      "metadata": {
        "colab": {
          "base_uri": "https://localhost:8080/"
        },
        "id": "gj5IzgesIJnN",
        "outputId": "25382e41-14bc-4b87-df7d-8e9a979afec7"
      },
      "execution_count": 83,
      "outputs": [
        {
          "output_type": "stream",
          "name": "stdout",
          "text": [
            "313/313 [==============================] - 1s 2ms/step - loss: 0.1021 - accuracy: 0.9736\n"
          ]
        },
        {
          "output_type": "execute_result",
          "data": {
            "text/plain": [
              "[0.10214445739984512, 0.9735999703407288]"
            ]
          },
          "metadata": {},
          "execution_count": 83
        }
      ]
    },
    {
      "cell_type": "code",
      "source": [
        "pred = model.predict(xtest)"
      ],
      "metadata": {
        "id": "DIukQwquIY90"
      },
      "execution_count": 84,
      "outputs": []
    },
    {
      "cell_type": "code",
      "source": [
        "np.argmax(pred[1])"
      ],
      "metadata": {
        "colab": {
          "base_uri": "https://localhost:8080/"
        },
        "id": "WlS7v-QHIuQF",
        "outputId": "3d0cc58f-463f-4c22-e262-725eee0179f2"
      },
      "execution_count": 85,
      "outputs": [
        {
          "output_type": "execute_result",
          "data": {
            "text/plain": [
              "2"
            ]
          },
          "metadata": {},
          "execution_count": 85
        }
      ]
    },
    {
      "cell_type": "code",
      "source": [
        "# Confusin matrics\n",
        "y_pred= model.predict(xtest)\n",
        "ypred=[np.argmax(i) for i in y_pred]\n",
        "conf_metrx = tf.math.confusion_matrix(labels=ytest, predictions=ypred)\n",
        "plt.figure(figsize=(10,7))\n",
        "seaborn.heatmap(conf_metrx,annot=True,fmt='d')\n",
        "plt.xlabel('Predicted Output')\n",
        "plt.ylabel('Actual output')\n"
      ],
      "metadata": {
        "colab": {
          "base_uri": "https://localhost:8080/",
          "height": 459
        },
        "id": "t3bEx83bJQ2H",
        "outputId": "6185601c-af42-48e5-c956-087a5bd39fd8"
      },
      "execution_count": 86,
      "outputs": [
        {
          "output_type": "execute_result",
          "data": {
            "text/plain": [
              "Text(69.0, 0.5, 'Actual output')"
            ]
          },
          "metadata": {},
          "execution_count": 86
        },
        {
          "output_type": "display_data",
          "data": {
            "image/png": "[encoded data removed]",
            "text/plain": [
              "<Figure size 720x504 with 2 Axes>"
            ]
          },
          "metadata": {
            "needs_background": "light"
          }
        }
      ]
    }
  ]
}